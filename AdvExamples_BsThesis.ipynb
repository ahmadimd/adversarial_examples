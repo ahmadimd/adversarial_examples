{
 "cells": [
  {
   "cell_type": "code",
   "execution_count": 7,
   "metadata": {
    "id": "5znFR7eL2jdH"
   },
   "outputs": [],
   "source": [
    "import tensorflow as tf\n",
    "\n",
    "from tensorflow.keras.datasets import mnist\n",
    "\n",
    "from tensorflow.keras import Sequential\n",
    "from tensorflow.keras.callbacks import LambdaCallback\n",
    "from tensorflow.keras.layers import Conv2D, MaxPooling2D, Dropout, Dense, Flatten, Activation\n",
    "\n",
    "import numpy as np\n",
    "import random\n",
    "\n",
    "import matplotlib.pyplot as plt"
   ]
  },
  {
   "cell_type": "code",
   "execution_count": 8,
   "metadata": {
    "id": "mjGiqfkP23Vi"
   },
   "outputs": [],
   "source": [
    "(x_train, y_train), (x_test, y_test) = mnist.load_data()"
   ]
  },
  {
   "cell_type": "code",
   "execution_count": 9,
   "metadata": {
    "colab": {
     "base_uri": "https://localhost:8080/"
    },
    "id": "wfrM8iI8fHeh",
    "outputId": "742349f2-70f8-4ea5-b11b-eb4a2f69d845"
   },
   "outputs": [
    {
     "data": {
      "text/plain": [
       "(60000,)"
      ]
     },
     "execution_count": 9,
     "metadata": {},
     "output_type": "execute_result"
    }
   ],
   "source": [
    "y_train.shape"
   ]
  },
  {
   "cell_type": "code",
   "execution_count": 10,
   "metadata": {
    "id": "XYqPMWkldVgV"
   },
   "outputs": [],
   "source": [
    "new_test = np.zeros((10000,28,28))\n",
    "new_test[:5000] = x_train[:5000]\n",
    "new_test[5000:] = x_test[:5000]\n",
    "\n",
    "new_test_y = np.zeros(10000)\n",
    "new_test_y[:5000] = y_train[:5000]\n",
    "new_test_y[5000:] = y_test[:5000]\n",
    "\n",
    "np.save(\"mnist_test_x.npy\", new_test)\n",
    "np.save(\"mnist_test_y.npy\", new_test_y)\n",
    "np.save(\"mnist_train_x.npy\", x_train)\n",
    "np.save(\"mnist_train_y.npy\", y_train)\n"
   ]
  },
  {
   "cell_type": "code",
   "execution_count": null,
   "metadata": {
    "id": "2pxVNT-4eK_k"
   },
   "outputs": [],
   "source": [
    "\n",
    "def loader():\n",
    "  x_test = np.load('mnist_test_x.npy')\n",
    "  x_train = np.load('mnist_train_x.npy')\n",
    "  y_test = np.load('mnist_test_y.npy')\n",
    "  y_train = np.load('mnist_train_y.npy')\n",
    "  return x_train, y_train, x_test, y_test \n",
    "\n",
    "x_train, y_train, x_test, y_test = loader()\n"
   ]
  },
  {
   "cell_type": "code",
   "execution_count": 11,
   "metadata": {
    "id": "C9MzNKHt3TIw"
   },
   "outputs": [],
   "source": [
    "labels = ['zero', 'one', 'two', 'three', 'four', 'five', 'six', 'seven', 'eight', 'nine']"
   ]
  },
  {
   "cell_type": "code",
   "execution_count": 12,
   "metadata": {
    "colab": {
     "base_uri": "https://localhost:8080/"
    },
    "id": "6ivB98Tf3YfY",
    "outputId": "dee70afe-e27e-411d-b3dc-75d3d68f16fc"
   },
   "outputs": [
    {
     "name": "stdout",
     "output_type": "stream",
     "text": [
      "Data shapes (10000, 28, 28, 1) (10000, 10) (60000, 28, 28, 1) (60000, 10)\n"
     ]
    }
   ],
   "source": [
    "img_rows, img_cols, channels = 28, 28, 1\n",
    "num_classes = 10\n",
    "\n",
    "x_train = x_train / 255\n",
    "x_test = x_test / 255\n",
    "\n",
    "x_train = x_train.reshape((-1, img_rows, img_cols, channels))\n",
    "x_test = x_test.reshape((-1, img_rows, img_cols, channels))\n",
    "\n",
    "y_train = tf.keras.utils.to_categorical(y_train, num_classes)\n",
    "y_test = tf.keras.utils.to_categorical(y_test, num_classes)\n",
    "\n",
    "print(\"Data shapes\", x_test.shape, y_test.shape, x_train.shape, y_train.shape)"
   ]
  },
  {
   "cell_type": "code",
   "execution_count": 13,
   "metadata": {
    "id": "8UgXmH593avQ"
   },
   "outputs": [],
   "source": [
    "model = Sequential()\n",
    "model.add(Conv2D(32, kernel_size=(3, 3), strides=(3, 3), padding='same', activation='relu', input_shape=(img_rows, img_cols, channels)))\n",
    "model.add(Conv2D(64, kernel_size=(3, 3), strides=(3, 3), padding='same', activation='relu'))\n",
    "model.add(Conv2D(64, kernel_size=(3, 3), strides=(3, 3), padding='same', activation='relu'))\n",
    "model.add(MaxPooling2D(pool_size=(2, 2)))\n",
    "model.add(Dropout(0.2))\n",
    "model.add(Flatten())\n",
    "model.add(Dense(32))\n",
    "model.add(Dropout(0.2))\n",
    "model.add(Dense(32))\n",
    "model.add(Dropout(0.2))\n",
    "model.add(Dense(num_classes, activation='softmax'))"
   ]
  },
  {
   "cell_type": "code",
   "execution_count": 14,
   "metadata": {
    "colab": {
     "base_uri": "https://localhost:8080/"
    },
    "id": "BsPX0zCx6q00",
    "outputId": "ef37e227-c2f6-432d-81d7-83beca3cc7a3"
   },
   "outputs": [
    {
     "name": "stdout",
     "output_type": "stream",
     "text": [
      "Model: \"sequential_1\"\n",
      "_________________________________________________________________\n",
      "Layer (type)                 Output Shape              Param #   \n",
      "=================================================================\n",
      "conv2d (Conv2D)              (None, 10, 10, 32)        320       \n",
      "_________________________________________________________________\n",
      "conv2d_1 (Conv2D)            (None, 4, 4, 64)          18496     \n",
      "_________________________________________________________________\n",
      "conv2d_2 (Conv2D)            (None, 2, 2, 64)          36928     \n",
      "_________________________________________________________________\n",
      "max_pooling2d (MaxPooling2D) (None, 1, 1, 64)          0         \n",
      "_________________________________________________________________\n",
      "dropout (Dropout)            (None, 1, 1, 64)          0         \n",
      "_________________________________________________________________\n",
      "flatten (Flatten)            (None, 64)                0         \n",
      "_________________________________________________________________\n",
      "dense (Dense)                (None, 32)                2080      \n",
      "_________________________________________________________________\n",
      "dropout_1 (Dropout)          (None, 32)                0         \n",
      "_________________________________________________________________\n",
      "dense_1 (Dense)              (None, 32)                1056      \n",
      "_________________________________________________________________\n",
      "dropout_2 (Dropout)          (None, 32)                0         \n",
      "_________________________________________________________________\n",
      "dense_2 (Dense)              (None, 10)                330       \n",
      "=================================================================\n",
      "Total params: 59,210\n",
      "Trainable params: 59,210\n",
      "Non-trainable params: 0\n",
      "_________________________________________________________________\n"
     ]
    }
   ],
   "source": [
    "model.summary()"
   ]
  },
  {
   "cell_type": "code",
   "execution_count": 15,
   "metadata": {
    "id": "WqJUQT8L4Pwp"
   },
   "outputs": [],
   "source": [
    "model.compile(optimizer='adam', loss='mse', metrics=['accuracy'])"
   ]
  },
  {
   "cell_type": "code",
   "execution_count": 16,
   "metadata": {
    "colab": {
     "base_uri": "https://localhost:8080/"
    },
    "id": "qFxVHTRe4RO9",
    "outputId": "2ae89c56-52fa-46bb-851b-0e4bbd50f50b"
   },
   "outputs": [
    {
     "name": "stderr",
     "output_type": "stream",
     "text": [
      "2021-10-15 19:53:22.003919: I tensorflow/compiler/mlir/mlir_graph_optimization_pass.cc:185] None of the MLIR Optimization Passes are enabled (registered 2)\n",
      "2021-10-15 19:53:22.006234: W tensorflow/core/platform/profile_utils/cpu_utils.cc:128] Failed to get CPU frequency: 0 Hz\n",
      "2021-10-15 19:53:22.194744: I tensorflow/core/grappler/optimizers/custom_graph_optimizer_registry.cc:112] Plugin optimizer for device_type GPU is enabled.\n"
     ]
    },
    {
     "name": "stdout",
     "output_type": "stream",
     "text": [
      "Epoch 1/19\n",
      "1872/1875 [============================>.] - ETA: 0s - loss: 0.0197 - accuracy: 0.8626"
     ]
    },
    {
     "name": "stderr",
     "output_type": "stream",
     "text": [
      "2021-10-15 19:53:36.146121: I tensorflow/core/grappler/optimizers/custom_graph_optimizer_registry.cc:112] Plugin optimizer for device_type GPU is enabled.\n"
     ]
    },
    {
     "name": "stdout",
     "output_type": "stream",
     "text": [
      "1875/1875 [==============================] - 15s 6ms/step - loss: 0.0197 - accuracy: 0.8627 - val_loss: 0.0068 - val_accuracy: 0.9553\n",
      "Epoch 2/19\n",
      "1875/1875 [==============================] - 12s 6ms/step - loss: 0.0092 - accuracy: 0.9396 - val_loss: 0.0050 - val_accuracy: 0.9659\n",
      "Epoch 3/19\n",
      "1875/1875 [==============================] - 12s 6ms/step - loss: 0.0076 - accuracy: 0.9500 - val_loss: 0.0043 - val_accuracy: 0.9713\n",
      "Epoch 4/19\n",
      "1875/1875 [==============================] - 12s 6ms/step - loss: 0.0063 - accuracy: 0.9594 - val_loss: 0.0037 - val_accuracy: 0.9767\n",
      "Epoch 5/19\n",
      "1875/1875 [==============================] - 12s 6ms/step - loss: 0.0058 - accuracy: 0.9629 - val_loss: 0.0033 - val_accuracy: 0.9786\n",
      "Epoch 6/19\n",
      "1875/1875 [==============================] - 12s 6ms/step - loss: 0.0053 - accuracy: 0.9662 - val_loss: 0.0035 - val_accuracy: 0.9776\n",
      "Epoch 7/19\n",
      "1875/1875 [==============================] - 12s 6ms/step - loss: 0.0050 - accuracy: 0.9676 - val_loss: 0.0038 - val_accuracy: 0.9756\n",
      "Epoch 8/19\n",
      "1875/1875 [==============================] - 12s 6ms/step - loss: 0.0045 - accuracy: 0.9714 - val_loss: 0.0033 - val_accuracy: 0.9792\n",
      "Epoch 9/19\n",
      "1875/1875 [==============================] - 12s 6ms/step - loss: 0.0044 - accuracy: 0.9719 - val_loss: 0.0032 - val_accuracy: 0.9793\n",
      "Epoch 10/19\n",
      "1875/1875 [==============================] - 12s 6ms/step - loss: 0.0040 - accuracy: 0.9743 - val_loss: 0.0030 - val_accuracy: 0.9805\n",
      "Epoch 11/19\n",
      "1875/1875 [==============================] - 12s 6ms/step - loss: 0.0041 - accuracy: 0.9743 - val_loss: 0.0033 - val_accuracy: 0.9798\n",
      "Epoch 12/19\n",
      "1875/1875 [==============================] - 12s 6ms/step - loss: 0.0039 - accuracy: 0.9754 - val_loss: 0.0031 - val_accuracy: 0.9802\n",
      "Epoch 13/19\n",
      "1875/1875 [==============================] - 12s 6ms/step - loss: 0.0035 - accuracy: 0.9779 - val_loss: 0.0031 - val_accuracy: 0.9806\n",
      "Epoch 14/19\n",
      "1875/1875 [==============================] - 12s 6ms/step - loss: 0.0036 - accuracy: 0.9776 - val_loss: 0.0031 - val_accuracy: 0.9805\n",
      "Epoch 15/19\n",
      "1875/1875 [==============================] - 12s 6ms/step - loss: 0.0034 - accuracy: 0.9792 - val_loss: 0.0027 - val_accuracy: 0.9835\n",
      "Epoch 16/19\n",
      "1875/1875 [==============================] - 12s 6ms/step - loss: 0.0033 - accuracy: 0.9797 - val_loss: 0.0031 - val_accuracy: 0.9810\n",
      "Epoch 17/19\n",
      "1875/1875 [==============================] - 12s 6ms/step - loss: 0.0033 - accuracy: 0.9796 - val_loss: 0.0031 - val_accuracy: 0.9812\n",
      "Epoch 18/19\n",
      "1875/1875 [==============================] - 12s 7ms/step - loss: 0.0032 - accuracy: 0.9804 - val_loss: 0.0027 - val_accuracy: 0.9837\n",
      "Epoch 19/19\n",
      "1875/1875 [==============================] - 12s 6ms/step - loss: 0.0031 - accuracy: 0.9809 - val_loss: 0.0026 - val_accuracy: 0.9841\n"
     ]
    },
    {
     "data": {
      "text/plain": [
       "<keras.callbacks.History at 0x16afd5520>"
      ]
     },
     "execution_count": 16,
     "metadata": {},
     "output_type": "execute_result"
    }
   ],
   "source": [
    "model.fit(x_train, y_train,\n",
    "          batch_size=32,\n",
    "          epochs=19,\n",
    "          validation_data=(x_test, y_test))"
   ]
  },
  {
   "cell_type": "code",
   "execution_count": 17,
   "metadata": {
    "id": "9icUzoEd4bXu"
   },
   "outputs": [
    {
     "data": {
      "text/plain": [
       "[0.002612134674564004, 0.9841000437736511]"
      ]
     },
     "execution_count": 17,
     "metadata": {},
     "output_type": "execute_result"
    }
   ],
   "source": [
    "model.evaluate(x=x_test, y=y_test, verbose=0)"
   ]
  },
  {
   "cell_type": "code",
   "execution_count": 18,
   "metadata": {
    "id": "0Z4eHe7o7JTr"
   },
   "outputs": [],
   "source": [
    "def adversarial_pattern(image, label):\n",
    "    image = tf.cast(image, tf.float32)\n",
    "    \n",
    "    with tf.GradientTape() as tape:\n",
    "        tape.watch(image)\n",
    "        prediction = model(image)\n",
    "        loss = tf.keras.losses.MSE(label, prediction)\n",
    "    \n",
    "    gradient = tape.gradient(loss, image)\n",
    "    \n",
    "    signed_grad = tf.sign(gradient)\n",
    "    \n",
    "    return signed_grad"
   ]
  },
  {
   "cell_type": "code",
   "execution_count": 19,
   "metadata": {
    "id": "62e1cFcSAa_F"
   },
   "outputs": [
    {
     "data": {
      "text/plain": [
       "array([0., 0., 0., 0., 0., 1., 0., 0., 0., 0.], dtype=float32)"
      ]
     },
     "execution_count": 19,
     "metadata": {},
     "output_type": "execute_result"
    }
   ],
   "source": [
    "image = x_train[0]\n",
    "image_label = y_train[0]\n",
    "image_label"
   ]
  },
  {
   "cell_type": "code",
   "execution_count": 20,
   "metadata": {
    "id": "zp5mvDYdAu0N"
   },
   "outputs": [],
   "source": [
    "perturbations = adversarial_pattern(image.reshape((1, img_rows, img_cols, channels)), image_label).numpy()"
   ]
  },
  {
   "cell_type": "code",
   "execution_count": 21,
   "metadata": {
    "id": "a1_s_pG-acRt"
   },
   "outputs": [
    {
     "data": {
      "image/png": "[encoded data removed]",
      "text/plain": [
       "<Figure size 432x288 with 1 Axes>"
      ]
     },
     "metadata": {
      "needs_background": "light"
     },
     "output_type": "display_data"
    }
   ],
   "source": [
    "if channels == 1:\n",
    "    plt.imshow(perturbations.reshape((img_rows, img_cols)))\n",
    "else:\n",
    "    plt.imshow(perturbations.reshape((img_rows, img_cols, channels)))\n",
    "plt.show()"
   ]
  },
  {
   "cell_type": "code",
   "execution_count": 22,
   "metadata": {
    "id": "RJMDu01dA5SI"
   },
   "outputs": [],
   "source": [
    "adversarial = image + perturbations * 0.1"
   ]
  },
  {
   "cell_type": "code",
   "execution_count": 23,
   "metadata": {
    "id": "L5Augew_A9n2"
   },
   "outputs": [
    {
     "data": {
      "image/png": "[encoded data removed]",
      "text/plain": [
       "<Figure size 432x288 with 1 Axes>"
      ]
     },
     "metadata": {
      "needs_background": "light"
     },
     "output_type": "display_data"
    }
   ],
   "source": [
    "if channels == 1:\n",
    "    plt.imshow(adversarial.reshape((img_rows, img_cols)))\n",
    "else:\n",
    "    plt.imshow(adversarial.reshape((img_rows, img_cols, channels)))\n",
    "plt.show()"
   ]
  },
  {
   "cell_type": "code",
   "execution_count": 24,
   "metadata": {
    "id": "orVMyk13tIQp"
   },
   "outputs": [
    {
     "name": "stdout",
     "output_type": "stream",
     "text": [
      "five\n",
      "three\n"
     ]
    },
    {
     "name": "stderr",
     "output_type": "stream",
     "text": [
      "2021-10-15 19:57:52.699009: I tensorflow/core/grappler/optimizers/custom_graph_optimizer_registry.cc:112] Plugin optimizer for device_type GPU is enabled.\n"
     ]
    }
   ],
   "source": [
    "print(labels[model.predict(image.reshape((1, img_rows, img_cols, channels))).argmax()])\n",
    "print(labels[model.predict(adversarial).argmax()])"
   ]
  },
  {
   "cell_type": "code",
   "execution_count": 25,
   "metadata": {
    "id": "mCy-OzYnuGkT"
   },
   "outputs": [],
   "source": [
    "def generate_adversarials(batch_size):\n",
    "    while True:\n",
    "        x = []\n",
    "        y = []\n",
    "        for batch in range(batch_size):\n",
    "            N = random.randint(0, 100)\n",
    "\n",
    "            label = y_train[N]\n",
    "            image = x_train[N]\n",
    "            \n",
    "            perturbations = adversarial_pattern(image.reshape((1, img_rows, img_cols, channels)), label).numpy()\n",
    "            \n",
    "            \n",
    "            epsilon = 0.5\n",
    "            adversarial = image + perturbations * epsilon\n",
    "            \n",
    "            x.append(adversarial)\n",
    "            y.append(y_train[N])\n",
    "        \n",
    "        \n",
    "        x = np.asarray(x).reshape((batch_size, img_rows, img_cols, channels))\n",
    "        y = np.asarray(y)\n",
    "        \n",
    "        yield x, y"
   ]
  },
  {
   "cell_type": "code",
   "execution_count": 33,
   "metadata": {
    "id": "G0aH4zxLytuC"
   },
   "outputs": [
    {
     "name": "stdout",
     "output_type": "stream",
     "text": [
      "Prediction: nine Truth: one\n",
      "Prediction: three Truth: seven\n",
      "Prediction: three Truth: nine\n",
      "Prediction: four Truth: seven\n",
      "Prediction: three Truth: three\n",
      "Prediction: nine Truth: one\n",
      "Prediction: one Truth: three\n",
      "Prediction: six Truth: three\n",
      "Prediction: zero Truth: seven\n",
      "Prediction: eight Truth: three\n",
      "Prediction: eight Truth: five\n",
      "Prediction: three Truth: two\n"
     ]
    }
   ],
   "source": [
    "adversarials, correct_labels = next(generate_adversarials(12))\n",
    "for adversarial, correct_label in zip(adversarials, correct_labels):\n",
    "    print('Prediction:', labels[model.predict(adversarial.reshape((1, img_rows, img_cols, channels))).argmax()], 'Truth:', labels[correct_label.argmax()])"
   ]
  },
  {
   "cell_type": "code",
   "execution_count": 27,
   "metadata": {
    "id": "3tkZbU2rzBMi"
   },
   "outputs": [],
   "source": [
    "x_adversarial_train, y_adversarial_train = next(generate_adversarials(20000))\n",
    "x_adversarial_test, y_adversarial_test = next(generate_adversarials(10000))"
   ]
  },
  {
   "cell_type": "code",
   "execution_count": 28,
   "metadata": {
    "id": "wAT13PxqzJcP"
   },
   "outputs": [
    {
     "data": {
      "text/plain": [
       "[0.18691717088222504, 0.0]"
      ]
     },
     "execution_count": 28,
     "metadata": {},
     "output_type": "execute_result"
    }
   ],
   "source": [
    "model.evaluate(x=x_adversarial_test, y=y_adversarial_test, verbose=0)"
   ]
  },
  {
   "cell_type": "code",
   "execution_count": 29,
   "metadata": {
    "id": "6wJPFWLezVAJ"
   },
   "outputs": [
    {
     "name": "stdout",
     "output_type": "stream",
     "text": [
      "Epoch 1/10\n",
      "625/625 [==============================] - 4s 7ms/step - loss: 0.0417 - accuracy: 0.7706 - val_loss: 0.0078 - val_accuracy: 0.9531\n",
      "Epoch 2/10\n",
      "625/625 [==============================] - 4s 7ms/step - loss: 5.0553e-04 - accuracy: 0.9967 - val_loss: 0.0078 - val_accuracy: 0.9518\n",
      "Epoch 3/10\n",
      "625/625 [==============================] - 4s 7ms/step - loss: 2.0421e-04 - accuracy: 0.9988 - val_loss: 0.0072 - val_accuracy: 0.9539\n",
      "Epoch 4/10\n",
      "625/625 [==============================] - 4s 7ms/step - loss: 2.2869e-04 - accuracy: 0.9986 - val_loss: 0.0078 - val_accuracy: 0.9504\n",
      "Epoch 5/10\n",
      "625/625 [==============================] - 4s 7ms/step - loss: 2.0810e-04 - accuracy: 0.9987 - val_loss: 0.0096 - val_accuracy: 0.9391\n",
      "Epoch 6/10\n",
      "625/625 [==============================] - 4s 7ms/step - loss: 1.8763e-04 - accuracy: 0.9988 - val_loss: 0.0098 - val_accuracy: 0.9354\n",
      "Epoch 7/10\n",
      "625/625 [==============================] - 4s 7ms/step - loss: 1.3402e-04 - accuracy: 0.9992 - val_loss: 0.0128 - val_accuracy: 0.9152\n",
      "Epoch 8/10\n",
      "625/625 [==============================] - 4s 7ms/step - loss: 1.6831e-04 - accuracy: 0.9990 - val_loss: 0.0132 - val_accuracy: 0.9139\n",
      "Epoch 9/10\n",
      "625/625 [==============================] - 4s 7ms/step - loss: 2.1020e-04 - accuracy: 0.9987 - val_loss: 0.0143 - val_accuracy: 0.9055\n",
      "Epoch 10/10\n",
      "625/625 [==============================] - 4s 7ms/step - loss: 2.3670e-04 - accuracy: 0.9986 - val_loss: 0.0237 - val_accuracy: 0.8488\n"
     ]
    },
    {
     "data": {
      "text/plain": [
       "<keras.callbacks.History at 0x176c655b0>"
      ]
     },
     "execution_count": 29,
     "metadata": {},
     "output_type": "execute_result"
    }
   ],
   "source": [
    "model.fit(x_adversarial_train, y_adversarial_train,\n",
    "          batch_size=32,\n",
    "          epochs=3,\n",
    "          validation_data=(x_test, y_test))"
   ]
  },
  {
   "cell_type": "code",
   "execution_count": 31,
   "metadata": {
    "id": "yTX3UPbyzdkm"
   },
   "outputs": [
    {
     "data": {
      "text/plain": [
       "[0.02372768148779869, 0.8488000631332397]"
      ]
     },
     "execution_count": 31,
     "metadata": {},
     "output_type": "execute_result"
    }
   ],
   "source": [
    "model.evaluate(x=x_test, y=y_test, verbose=0)"
   ]
  }
 ],
 "metadata": {
  "colab": {
   "collapsed_sections": [],
   "name": "AdvExamples_BsThesis.ipynb",
   "provenance": []
  },
  "kernelspec": {
   "display_name": "Python 3 (ipykernel)",
   "language": "python",
   "name": "python3"
  },
  "language_info": {
   "codemirror_mode": {
    "name": "ipython",
    "version": 3
   },
   "file_extension": ".py",
   "mimetype": "text/x-python",
   "name": "python",
   "nbconvert_exporter": "python",
   "pygments_lexer": "ipython3",
   "version": "3.8.12"
  }
 },
 "nbformat": 4,
 "nbformat_minor": 4
}
